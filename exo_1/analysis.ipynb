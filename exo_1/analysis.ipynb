{
 "cells": [
  {
   "cell_type": "code",
   "execution_count": 5,
   "metadata": {},
   "outputs": [],
   "source": [
    "from cymetric import timeseries as com\n",
    "from cymetric import graphs as gr\n",
    "\n",
    "\n",
    "import pandas as pd\n",
    "import matplotlib.pyplot as plt\n",
    "%matplotlib inline"
   ]
  },
  {
   "cell_type": "code",
   "execution_count": 6,
   "metadata": {
    "collapsed": true
   },
   "outputs": [],
   "source": [
    "import cymetric as cym\n",
    "db = cym.dbopen('cyclus_test1.sqlite')\n",
    "ev = cym.Evaluator(db=db, write=False)"
   ]
  },
  {
   "cell_type": "code",
   "execution_count": 6,
   "metadata": {
    "collapsed": true
   },
   "outputs": [],
   "source": [
    "power = com.get_power(ev, facilities=['pwr'])"
   ]
  },
  {
   "cell_type": "code",
   "execution_count": 7,
   "metadata": {},
   "outputs": [
    {
     "data": {
      "image/png": "[encoded data removed]",
      "text/plain": [
       "<matplotlib.figure.Figure at 0x111ca4b38>"
      ]
     },
     "metadata": {},
     "output_type": "display_data"
    }
   ],
   "source": [
    "power_dat = pd.DataFrame({'Time': power.Time/12., 'Power': power.Value})\n",
    "e1x = power_dat.plot(x='Time', y='Power', figsize=(10, 6))\n",
    "\n",
    "#plt.ylim([0,1000000])\n",
    "plt.xlabel('Time [Years]')\n",
    "plt.ylabel('Power [W]')\n",
    "plt.savefig('power.png', dpi=326)"
   ]
  },
  {
   "cell_type": "code",
   "execution_count": 12,
   "metadata": {},
   "outputs": [],
   "source": [
    "PU9 = com.inventories(ev, facilities=['storage_uox_spent'],nucs=['239Pu'] )\n",
    "\n"
   ]
  },
  {
   "cell_type": "code",
   "execution_count": 15,
   "metadata": {},
   "outputs": [
    {
     "data": {
      "image/png": "[encoded data removed]",
      "text/plain": [
       "<matplotlib.figure.Figure at 0x118d98ef0>"
      ]
     },
     "metadata": {},
     "output_type": "display_data"
    }
   ],
   "source": [
    "uox_dat = pd.DataFrame({'Time': PU9.Time/12., 'UOX enrichs': PU9.Quantity})\n",
    "e1x = uox_dat.plot(x='Time', y='UOX enrichs', figsize=(10, 6), linestyle=' ', marker='o')\n",
    "\n",
    "\n",
    "\n",
    "\n",
    "\n",
    "\n",
    "\n",
    "\n",
    "#FBR_dr_trans_LEU_dat.plot(x='Time', y='LEU Mass', ax=e1x)\n",
    "\n",
    "\n",
    "\n",
    "\n",
    "plt.ylim([0,3000])\n",
    "plt.xlabel('Time [Years]')\n",
    "plt.ylabel('Transaction [Kg]')\n",
    "plt.savefig('trans.png', dpi=326)"
   ]
  },
  {
   "cell_type": "code",
   "execution_count": null,
   "metadata": {
    "collapsed": true
   },
   "outputs": [],
   "source": []
  },
  {
   "cell_type": "code",
   "execution_count": null,
   "metadata": {
    "collapsed": true
   },
   "outputs": [],
   "source": []
  },
  {
   "cell_type": "code",
   "execution_count": null,
   "metadata": {
    "collapsed": true
   },
   "outputs": [],
   "source": []
  },
  {
   "cell_type": "code",
   "execution_count": null,
   "metadata": {
    "collapsed": true
   },
   "outputs": [],
   "source": []
  },
  {
   "cell_type": "code",
   "execution_count": null,
   "metadata": {
    "collapsed": true
   },
   "outputs": [],
   "source": []
  },
  {
   "cell_type": "code",
   "execution_count": null,
   "metadata": {
    "collapsed": true
   },
   "outputs": [],
   "source": []
  },
  {
   "cell_type": "code",
   "execution_count": null,
   "metadata": {
    "collapsed": true
   },
   "outputs": [],
   "source": []
  },
  {
   "cell_type": "code",
   "execution_count": null,
   "metadata": {
    "collapsed": true
   },
   "outputs": [],
   "source": []
  },
  {
   "cell_type": "code",
   "execution_count": null,
   "metadata": {
    "collapsed": true
   },
   "outputs": [],
   "source": []
  },
  {
   "cell_type": "code",
   "execution_count": null,
   "metadata": {
    "collapsed": true
   },
   "outputs": [],
   "source": []
  },
  {
   "cell_type": "code",
   "execution_count": null,
   "metadata": {
    "collapsed": true
   },
   "outputs": [],
   "source": []
  },
  {
   "cell_type": "code",
   "execution_count": 7,
   "metadata": {
    "scrolled": true
   },
   "outputs": [
    {
     "data": {
      "image/svg+xml": [
       "<?xml version=\"1.0\" encoding=\"UTF-8\" standalone=\"no\"?>\n",
       "<!DOCTYPE svg PUBLIC \"-//W3C//DTD SVG 1.1//EN\"\n",
       " \"http://www.w3.org/Graphics/SVG/1.1/DTD/svg11.dtd\">\n",
       "<!-- Generated by graphviz version 2.40.1 (20161225.0304)\n",
       " -->\n",
       "<!-- Title: G Pages: 1 -->\n",
       "<svg width=\"417pt\" height=\"218pt\"\n",
       " viewBox=\"0.00 0.00 417.43 218.00\" xmlns=\"http://www.w3.org/2000/svg\" xmlns:xlink=\"http://www.w3.org/1999/xlink\">\n",
       "<g id=\"graph0\" class=\"graph\" transform=\"scale(1 1) rotate(0) translate(4 214)\">\n",
       "<title>G</title>\n",
       "<polygon fill=\"#ffffff\" stroke=\"transparent\" points=\"-4,4 -4,-214 413.4343,-214 413.4343,4 -4,4\"/>\n",
       "<!-- deployer_main_CHAIN -->\n",
       "<g id=\"node1\" class=\"node\">\n",
       "<title>deployer_main_CHAIN</title>\n",
       "<ellipse fill=\"none\" stroke=\"#000000\" cx=\"98.7912\" cy=\"-192\" rx=\"98.5829\" ry=\"18\"/>\n",
       "<text text-anchor=\"middle\" x=\"98.7912\" y=\"-188.3\" font-family=\"Times,serif\" font-size=\"14.00\" fill=\"#000000\">deployer_main_CHAIN</text>\n",
       "</g>\n",
       "<!-- waste -->\n",
       "<g id=\"node2\" class=\"node\">\n",
       "<title>waste</title>\n",
       "<ellipse fill=\"none\" stroke=\"#000000\" cx=\"246.7912\" cy=\"-192\" rx=\"31.3957\" ry=\"18\"/>\n",
       "<text text-anchor=\"middle\" x=\"246.7912\" y=\"-188.3\" font-family=\"Times,serif\" font-size=\"14.00\" fill=\"#000000\">waste</text>\n",
       "</g>\n",
       "<!-- nu_src -->\n",
       "<g id=\"node3\" class=\"node\">\n",
       "<title>nu_src</title>\n",
       "<ellipse fill=\"none\" stroke=\"#000000\" cx=\"330.7912\" cy=\"-192\" rx=\"35.194\" ry=\"18\"/>\n",
       "<text text-anchor=\"middle\" x=\"330.7912\" y=\"-188.3\" font-family=\"Times,serif\" font-size=\"14.00\" fill=\"#000000\">nu_src</text>\n",
       "</g>\n",
       "<!-- pwr -->\n",
       "<g id=\"node5\" class=\"node\">\n",
       "<title>pwr</title>\n",
       "<ellipse fill=\"none\" stroke=\"#000000\" cx=\"330.7912\" cy=\"-105\" rx=\"27\" ry=\"18\"/>\n",
       "<text text-anchor=\"middle\" x=\"330.7912\" y=\"-101.3\" font-family=\"Times,serif\" font-size=\"14.00\" fill=\"#000000\">pwr</text>\n",
       "</g>\n",
       "<!-- nu_src&#45;&gt;pwr -->\n",
       "<g id=\"edge1\" class=\"edge\">\n",
       "<title>nu_src&#45;&gt;pwr</title>\n",
       "<path fill=\"none\" stroke=\"#000000\" d=\"M330.7912,-173.9735C330.7912,-162.1918 330.7912,-146.5607 330.7912,-133.1581\"/>\n",
       "<polygon fill=\"#000000\" stroke=\"#000000\" points=\"334.2913,-133.0033 330.7912,-123.0034 327.2913,-133.0034 334.2913,-133.0033\"/>\n",
       "<text text-anchor=\"middle\" x=\"357.2912\" y=\"-144.8\" font-family=\"Times,serif\" font-size=\"14.00\" fill=\"#000000\">450000.0</text>\n",
       "</g>\n",
       "<!-- storage_uox_spent -->\n",
       "<g id=\"node4\" class=\"node\">\n",
       "<title>storage_uox_spent</title>\n",
       "<ellipse fill=\"none\" stroke=\"#000000\" cx=\"330.7912\" cy=\"-18\" rx=\"78.7863\" ry=\"18\"/>\n",
       "<text text-anchor=\"middle\" x=\"330.7912\" y=\"-14.3\" font-family=\"Times,serif\" font-size=\"14.00\" fill=\"#000000\">storage_uox_spent</text>\n",
       "</g>\n",
       "<!-- pwr&#45;&gt;storage_uox_spent -->\n",
       "<g id=\"edge2\" class=\"edge\">\n",
       "<title>pwr&#45;&gt;storage_uox_spent</title>\n",
       "<path fill=\"none\" stroke=\"#000000\" d=\"M330.7912,-86.9735C330.7912,-75.1918 330.7912,-59.5607 330.7912,-46.1581\"/>\n",
       "<polygon fill=\"#000000\" stroke=\"#000000\" points=\"334.2913,-46.0033 330.7912,-36.0034 327.2913,-46.0034 334.2913,-46.0033\"/>\n",
       "<text text-anchor=\"middle\" x=\"357.2912\" y=\"-57.8\" font-family=\"Times,serif\" font-size=\"14.00\" fill=\"#000000\">360000.0</text>\n",
       "</g>\n",
       "</g>\n",
       "</svg>\n"
      ],
      "text/plain": [
       "<graphviz.dot.Digraph at 0x1164eea90>"
      ]
     },
     "execution_count": 7,
     "metadata": {},
     "output_type": "execute_result"
    }
   ],
   "source": [
    "cym.graphs.flow_graph(ev)"
   ]
  },
  {
   "cell_type": "code",
   "execution_count": null,
   "metadata": {
    "collapsed": true
   },
   "outputs": [],
   "source": []
  },
  {
   "cell_type": "code",
   "execution_count": null,
   "metadata": {
    "collapsed": true
   },
   "outputs": [],
   "source": []
  },
  {
   "cell_type": "code",
   "execution_count": null,
   "metadata": {
    "collapsed": true
   },
   "outputs": [],
   "source": []
  }
 ],
 "metadata": {
  "kernelspec": {
   "display_name": "Python 3",
   "language": "python",
   "name": "python3"
  },
  "language_info": {
   "codemirror_mode": {
    "name": "ipython",
    "version": 3
   },
   "file_extension": ".py",
   "mimetype": "text/x-python",
   "name": "python",
   "nbconvert_exporter": "python",
   "pygments_lexer": "ipython3",
   "version": "3.5.3"
  }
 },
 "nbformat": 4,
 "nbformat_minor": 1
}
