{
 "cells": [
  {
   "cell_type": "code",
   "execution_count": 7,
   "metadata": {},
   "outputs": [],
   "source": [
    "from cymetric import timeseries as com\n",
    "import pandas as pd\n",
    "import matplotlib.pyplot as plt\n",
    "%matplotlib inline\n",
    "import cymetric as cym"
   ]
  },
  {
   "cell_type": "code",
   "execution_count": 8,
   "metadata": {},
   "outputs": [],
   "source": [
    "db1 = cym.dbopen('exo_stat/output/156.sqlite')\n",
    "ev1 = cym.Evaluator(db=db1, write=False)\n"
   ]
  },
  {
   "cell_type": "code",
   "execution_count": 12,
   "metadata": {},
   "outputs": [
    {
     "data": {
      "text/html": [
       "<div>\n",
       "<style>\n",
       "    .dataframe thead tr:only-child th {\n",
       "        text-align: right;\n",
       "    }\n",
       "\n",
       "    .dataframe thead th {\n",
       "        text-align: left;\n",
       "    }\n",
       "\n",
       "    .dataframe tbody tr th {\n",
       "        vertical-align: top;\n",
       "    }\n",
       "</style>\n",
       "<table border=\"1\" class=\"dataframe\">\n",
       "  <thead>\n",
       "    <tr style=\"text-align: right;\">\n",
       "      <th></th>\n",
       "      <th>SimId</th>\n",
       "      <th>AgentId</th>\n",
       "      <th>Kind</th>\n",
       "      <th>Spec</th>\n",
       "      <th>Prototype</th>\n",
       "      <th>ParentId</th>\n",
       "      <th>Lifetime</th>\n",
       "      <th>EnterTime</th>\n",
       "    </tr>\n",
       "  </thead>\n",
       "  <tbody>\n",
       "    <tr>\n",
       "      <th>0</th>\n",
       "      <td>3289395b-91fa-4b95-80e5-f9dc41f4c34f</td>\n",
       "      <td>15</td>\n",
       "      <td>Inst</td>\n",
       "      <td>:cycamore:DeployInst</td>\n",
       "      <td>nu_src</td>\n",
       "      <td>-1</td>\n",
       "      <td>-1</td>\n",
       "      <td>0</td>\n",
       "    </tr>\n",
       "    <tr>\n",
       "      <th>1</th>\n",
       "      <td>3289395b-91fa-4b95-80e5-f9dc41f4c34f</td>\n",
       "      <td>16</td>\n",
       "      <td>Facility</td>\n",
       "      <td>:cycamore:Sink</td>\n",
       "      <td>nu_src</td>\n",
       "      <td>10</td>\n",
       "      <td>-1</td>\n",
       "      <td>1</td>\n",
       "    </tr>\n",
       "    <tr>\n",
       "      <th>2</th>\n",
       "      <td>3289395b-91fa-4b95-80e5-f9dc41f4c34f</td>\n",
       "      <td>17</td>\n",
       "      <td>Facility</td>\n",
       "      <td>:cycamore:Source</td>\n",
       "      <td>nu_src</td>\n",
       "      <td>10</td>\n",
       "      <td>-1</td>\n",
       "      <td>1</td>\n",
       "    </tr>\n",
       "    <tr>\n",
       "      <th>3</th>\n",
       "      <td>3289395b-91fa-4b95-80e5-f9dc41f4c34f</td>\n",
       "      <td>18</td>\n",
       "      <td>Facility</td>\n",
       "      <td>:cycamore:Storage</td>\n",
       "      <td>nu_src</td>\n",
       "      <td>10</td>\n",
       "      <td>-1</td>\n",
       "      <td>1</td>\n",
       "    </tr>\n",
       "    <tr>\n",
       "      <th>4</th>\n",
       "      <td>3289395b-91fa-4b95-80e5-f9dc41f4c34f</td>\n",
       "      <td>19</td>\n",
       "      <td>Facility</td>\n",
       "      <td>:cyclass:Reactor</td>\n",
       "      <td>nu_src</td>\n",
       "      <td>10</td>\n",
       "      <td>-1</td>\n",
       "      <td>1</td>\n",
       "    </tr>\n",
       "    <tr>\n",
       "      <th>5</th>\n",
       "      <td>3289395b-91fa-4b95-80e5-f9dc41f4c34f</td>\n",
       "      <td>20</td>\n",
       "      <td>Facility</td>\n",
       "      <td>:cyclass:Reactor</td>\n",
       "      <td>nu_src</td>\n",
       "      <td>10</td>\n",
       "      <td>-1</td>\n",
       "      <td>121</td>\n",
       "    </tr>\n",
       "    <tr>\n",
       "      <th>6</th>\n",
       "      <td>3289395b-91fa-4b95-80e5-f9dc41f4c34f</td>\n",
       "      <td>21</td>\n",
       "      <td>Facility</td>\n",
       "      <td>:cyclass:Reactor</td>\n",
       "      <td>nu_src</td>\n",
       "      <td>10</td>\n",
       "      <td>-1</td>\n",
       "      <td>241</td>\n",
       "    </tr>\n",
       "    <tr>\n",
       "      <th>7</th>\n",
       "      <td>3289395b-91fa-4b95-80e5-f9dc41f4c34f</td>\n",
       "      <td>22</td>\n",
       "      <td>Facility</td>\n",
       "      <td>:cyclass:Reactor</td>\n",
       "      <td>nu_src</td>\n",
       "      <td>10</td>\n",
       "      <td>-1</td>\n",
       "      <td>361</td>\n",
       "    </tr>\n",
       "    <tr>\n",
       "      <th>8</th>\n",
       "      <td>3289395b-91fa-4b95-80e5-f9dc41f4c34f</td>\n",
       "      <td>23</td>\n",
       "      <td>Facility</td>\n",
       "      <td>:cyclass:Reactor</td>\n",
       "      <td>nu_src</td>\n",
       "      <td>10</td>\n",
       "      <td>-1</td>\n",
       "      <td>481</td>\n",
       "    </tr>\n",
       "    <tr>\n",
       "      <th>9</th>\n",
       "      <td>3289395b-91fa-4b95-80e5-f9dc41f4c34f</td>\n",
       "      <td>24</td>\n",
       "      <td>Facility</td>\n",
       "      <td>:cyclass:Reactor</td>\n",
       "      <td>nu_src</td>\n",
       "      <td>10</td>\n",
       "      <td>-1</td>\n",
       "      <td>601</td>\n",
       "    </tr>\n",
       "    <tr>\n",
       "      <th>10</th>\n",
       "      <td>3289395b-91fa-4b95-80e5-f9dc41f4c34f</td>\n",
       "      <td>25</td>\n",
       "      <td>Facility</td>\n",
       "      <td>:cyclass:Reactor</td>\n",
       "      <td>nu_src</td>\n",
       "      <td>10</td>\n",
       "      <td>-1</td>\n",
       "      <td>721</td>\n",
       "    </tr>\n",
       "    <tr>\n",
       "      <th>11</th>\n",
       "      <td>3289395b-91fa-4b95-80e5-f9dc41f4c34f</td>\n",
       "      <td>26</td>\n",
       "      <td>Facility</td>\n",
       "      <td>:cyclass:Reactor</td>\n",
       "      <td>nu_src</td>\n",
       "      <td>10</td>\n",
       "      <td>-1</td>\n",
       "      <td>841</td>\n",
       "    </tr>\n",
       "    <tr>\n",
       "      <th>12</th>\n",
       "      <td>3289395b-91fa-4b95-80e5-f9dc41f4c34f</td>\n",
       "      <td>27</td>\n",
       "      <td>Facility</td>\n",
       "      <td>:cyclass:Reactor</td>\n",
       "      <td>nu_src</td>\n",
       "      <td>10</td>\n",
       "      <td>-1</td>\n",
       "      <td>961</td>\n",
       "    </tr>\n",
       "    <tr>\n",
       "      <th>13</th>\n",
       "      <td>3289395b-91fa-4b95-80e5-f9dc41f4c34f</td>\n",
       "      <td>28</td>\n",
       "      <td>Facility</td>\n",
       "      <td>:cyclass:Reactor</td>\n",
       "      <td>nu_src</td>\n",
       "      <td>10</td>\n",
       "      <td>-1</td>\n",
       "      <td>1081</td>\n",
       "    </tr>\n",
       "  </tbody>\n",
       "</table>\n",
       "</div>"
      ],
      "text/plain": [
       "                                   SimId  AgentId      Kind  \\\n",
       "0   3289395b-91fa-4b95-80e5-f9dc41f4c34f       15      Inst   \n",
       "1   3289395b-91fa-4b95-80e5-f9dc41f4c34f       16  Facility   \n",
       "2   3289395b-91fa-4b95-80e5-f9dc41f4c34f       17  Facility   \n",
       "3   3289395b-91fa-4b95-80e5-f9dc41f4c34f       18  Facility   \n",
       "4   3289395b-91fa-4b95-80e5-f9dc41f4c34f       19  Facility   \n",
       "5   3289395b-91fa-4b95-80e5-f9dc41f4c34f       20  Facility   \n",
       "6   3289395b-91fa-4b95-80e5-f9dc41f4c34f       21  Facility   \n",
       "7   3289395b-91fa-4b95-80e5-f9dc41f4c34f       22  Facility   \n",
       "8   3289395b-91fa-4b95-80e5-f9dc41f4c34f       23  Facility   \n",
       "9   3289395b-91fa-4b95-80e5-f9dc41f4c34f       24  Facility   \n",
       "10  3289395b-91fa-4b95-80e5-f9dc41f4c34f       25  Facility   \n",
       "11  3289395b-91fa-4b95-80e5-f9dc41f4c34f       26  Facility   \n",
       "12  3289395b-91fa-4b95-80e5-f9dc41f4c34f       27  Facility   \n",
       "13  3289395b-91fa-4b95-80e5-f9dc41f4c34f       28  Facility   \n",
       "\n",
       "                    Spec Prototype  ParentId  Lifetime  EnterTime  \n",
       "0   :cycamore:DeployInst    nu_src        -1        -1          0  \n",
       "1         :cycamore:Sink    nu_src        10        -1          1  \n",
       "2       :cycamore:Source    nu_src        10        -1          1  \n",
       "3      :cycamore:Storage    nu_src        10        -1          1  \n",
       "4       :cyclass:Reactor    nu_src        10        -1          1  \n",
       "5       :cyclass:Reactor    nu_src        10        -1        121  \n",
       "6       :cyclass:Reactor    nu_src        10        -1        241  \n",
       "7       :cyclass:Reactor    nu_src        10        -1        361  \n",
       "8       :cyclass:Reactor    nu_src        10        -1        481  \n",
       "9       :cyclass:Reactor    nu_src        10        -1        601  \n",
       "10      :cyclass:Reactor    nu_src        10        -1        721  \n",
       "11      :cyclass:Reactor    nu_src        10        -1        841  \n",
       "12      :cyclass:Reactor    nu_src        10        -1        961  \n",
       "13      :cyclass:Reactor    nu_src        10        -1       1081  "
      ]
     },
     "execution_count": 12,
     "metadata": {},
     "output_type": "execute_result"
    }
   ],
   "source": [
    "ev1.eval('AgentEntry')\n"
   ]
  },
  {
   "cell_type": "code",
   "execution_count": 10,
   "metadata": {},
   "outputs": [
    {
     "ename": "NameError",
     "evalue": "name 'u5_tot_1' is not defined",
     "output_type": "error",
     "traceback": [
      "\u001b[0;31m---------------------------------------------------------------------------\u001b[0m",
      "\u001b[0;31mNameError\u001b[0m                                 Traceback (most recent call last)",
      "\u001b[0;32m<ipython-input-10-e281522dbe15>\u001b[0m in \u001b[0;36m<module>\u001b[0;34m()\u001b[0m\n\u001b[0;32m----> 1\u001b[0;31m \u001b[0mu5_tot_1_dat\u001b[0m \u001b[0;34m=\u001b[0m \u001b[0mpd\u001b[0m\u001b[0;34m.\u001b[0m\u001b[0mDataFrame\u001b[0m\u001b[0;34m(\u001b[0m\u001b[0;34m{\u001b[0m\u001b[0;34m'Time'\u001b[0m\u001b[0;34m:\u001b[0m \u001b[0mu5_tot_1\u001b[0m\u001b[0;34m.\u001b[0m\u001b[0mTime\u001b[0m\u001b[0;34m/\u001b[0m\u001b[0;36m12.\u001b[0m\u001b[0;34m,\u001b[0m \u001b[0;34m'ex1 Mass'\u001b[0m\u001b[0;34m:\u001b[0m \u001b[0mu5_tot_1\u001b[0m\u001b[0;34m.\u001b[0m\u001b[0mMass\u001b[0m\u001b[0;34m}\u001b[0m\u001b[0;34m)\u001b[0m\u001b[0;34m\u001b[0m\u001b[0m\n\u001b[0m\u001b[1;32m      2\u001b[0m \u001b[0mu5_tot_2_dat\u001b[0m \u001b[0;34m=\u001b[0m \u001b[0mpd\u001b[0m\u001b[0;34m.\u001b[0m\u001b[0mDataFrame\u001b[0m\u001b[0;34m(\u001b[0m\u001b[0;34m{\u001b[0m\u001b[0;34m'Time'\u001b[0m\u001b[0;34m:\u001b[0m \u001b[0mu5_tot_2\u001b[0m\u001b[0;34m.\u001b[0m\u001b[0mTime\u001b[0m\u001b[0;34m/\u001b[0m\u001b[0;36m12.\u001b[0m\u001b[0;34m,\u001b[0m \u001b[0;34m'ex2 Mass'\u001b[0m\u001b[0;34m:\u001b[0m \u001b[0mu5_tot_2\u001b[0m\u001b[0;34m.\u001b[0m\u001b[0mMass\u001b[0m\u001b[0;34m}\u001b[0m\u001b[0;34m)\u001b[0m\u001b[0;34m\u001b[0m\u001b[0m\n\u001b[1;32m      3\u001b[0m \u001b[0mu5_tot_3_dat\u001b[0m \u001b[0;34m=\u001b[0m \u001b[0mpd\u001b[0m\u001b[0;34m.\u001b[0m\u001b[0mDataFrame\u001b[0m\u001b[0;34m(\u001b[0m\u001b[0;34m{\u001b[0m\u001b[0;34m'Time'\u001b[0m\u001b[0;34m:\u001b[0m \u001b[0mu5_tot_3\u001b[0m\u001b[0;34m.\u001b[0m\u001b[0mTime\u001b[0m\u001b[0;34m/\u001b[0m\u001b[0;36m12.\u001b[0m\u001b[0;34m,\u001b[0m \u001b[0;34m'ex3 Mass'\u001b[0m\u001b[0;34m:\u001b[0m \u001b[0mu5_tot_3\u001b[0m\u001b[0;34m.\u001b[0m\u001b[0mMass\u001b[0m\u001b[0;34m}\u001b[0m\u001b[0;34m)\u001b[0m\u001b[0;34m\u001b[0m\u001b[0m\n\u001b[1;32m      4\u001b[0m \u001b[0;34m\u001b[0m\u001b[0m\n\u001b[1;32m      5\u001b[0m \u001b[0;34m\u001b[0m\u001b[0m\n",
      "\u001b[0;31mNameError\u001b[0m: name 'u5_tot_1' is not defined"
     ]
    }
   ],
   "source": [
    "u5_tot_1_dat = pd.DataFrame({'Time': u5_tot_1.Time/12., 'ex1 Mass': u5_tot_1.Mass})\n",
    "u5_tot_2_dat = pd.DataFrame({'Time': u5_tot_2.Time/12., 'ex2 Mass': u5_tot_2.Mass})\n",
    "u5_tot_3_dat = pd.DataFrame({'Time': u5_tot_3.Time/12., 'ex3 Mass': u5_tot_3.Mass})\n",
    "\n",
    "\n",
    "\n",
    "e1x = u5_tot_1_dat.plot(x='Time', y='ex1 Mass', figsize=(10, 6))\n",
    "u5_tot_2_dat.plot(x='Time', y='ex2 Mass', ax=e1x)\n",
    "u5_tot_3_dat.plot(x='Time', y='ex3 Mass', ax=e1x)\n",
    "\n",
    "\n",
    "\n",
    "\n",
    "\n",
    "#plt.ylim([0,50000000])\n",
    "plt.xlabel('Time [Years]')\n",
    "plt.ylabel('U235 total [Kg]')\n",
    "plt.savefig('inv.png', dpi=326)\n",
    "plt.legend()"
   ]
  },
  {
   "cell_type": "code",
   "execution_count": 11,
   "metadata": {},
   "outputs": [
    {
     "ename": "ValueError",
     "evalue": "All objects passed were None",
     "output_type": "error",
     "traceback": [
      "\u001b[0;31m---------------------------------------------------------------------------\u001b[0m",
      "\u001b[0;31mValueError\u001b[0m                                Traceback (most recent call last)",
      "\u001b[0;32m<ipython-input-11-83e567b12e6c>\u001b[0m in \u001b[0;36m<module>\u001b[0;34m()\u001b[0m\n\u001b[0;32m----> 1\u001b[0;31m \u001b[0mpu9_tot_1\u001b[0m \u001b[0;34m=\u001b[0m \u001b[0mcom\u001b[0m\u001b[0;34m.\u001b[0m\u001b[0minventories\u001b[0m\u001b[0;34m(\u001b[0m\u001b[0mev1\u001b[0m\u001b[0;34m,\u001b[0m \u001b[0mnucs\u001b[0m\u001b[0;34m=\u001b[0m\u001b[0;34m[\u001b[0m\u001b[0;34m'Pu239'\u001b[0m\u001b[0;34m]\u001b[0m\u001b[0;34m)\u001b[0m\u001b[0;34m\u001b[0m\u001b[0m\n\u001b[0m\u001b[1;32m      2\u001b[0m \u001b[0mpu9_tot_2\u001b[0m \u001b[0;34m=\u001b[0m \u001b[0mcom\u001b[0m\u001b[0;34m.\u001b[0m\u001b[0minventories\u001b[0m\u001b[0;34m(\u001b[0m\u001b[0mev2\u001b[0m\u001b[0;34m,\u001b[0m \u001b[0mnucs\u001b[0m\u001b[0;34m=\u001b[0m\u001b[0;34m[\u001b[0m\u001b[0;34m'Pu239'\u001b[0m\u001b[0;34m]\u001b[0m\u001b[0;34m)\u001b[0m\u001b[0;34m\u001b[0m\u001b[0m\n\u001b[1;32m      3\u001b[0m \u001b[0mpu9_tot_3\u001b[0m \u001b[0;34m=\u001b[0m \u001b[0mcom\u001b[0m\u001b[0;34m.\u001b[0m\u001b[0minventories\u001b[0m\u001b[0;34m(\u001b[0m\u001b[0mev3\u001b[0m\u001b[0;34m,\u001b[0m \u001b[0mnucs\u001b[0m\u001b[0;34m=\u001b[0m\u001b[0;34m[\u001b[0m\u001b[0;34m'Pu239'\u001b[0m\u001b[0;34m]\u001b[0m\u001b[0;34m)\u001b[0m\u001b[0;34m\u001b[0m\u001b[0m\n\u001b[1;32m      4\u001b[0m \u001b[0;34m\u001b[0m\u001b[0m\n\u001b[1;32m      5\u001b[0m \u001b[0;34m\u001b[0m\u001b[0m\n",
      "\u001b[0;32m/Users/mouginot/.local/lib/python3.5/site-packages/cymetric/timeseries.py\u001b[0m in \u001b[0;36minventories\u001b[0;34m(evaler, facilities, nucs)\u001b[0m\n\u001b[1;32m    129\u001b[0m     \u001b[0;32mif\u001b[0m \u001b[0mlen\u001b[0m\u001b[0;34m(\u001b[0m\u001b[0mnucs\u001b[0m\u001b[0;34m)\u001b[0m \u001b[0;34m!=\u001b[0m \u001b[0;36m0\u001b[0m\u001b[0;34m:\u001b[0m\u001b[0;34m\u001b[0m\u001b[0m\n\u001b[1;32m    130\u001b[0m         \u001b[0mnucs\u001b[0m \u001b[0;34m=\u001b[0m \u001b[0mtools\u001b[0m\u001b[0;34m.\u001b[0m\u001b[0mformat_nucs\u001b[0m\u001b[0;34m(\u001b[0m\u001b[0mnucs\u001b[0m\u001b[0;34m)\u001b[0m\u001b[0;34m\u001b[0m\u001b[0m\n\u001b[0;32m--> 131\u001b[0;31m         \u001b[0mdf\u001b[0m \u001b[0;34m=\u001b[0m \u001b[0mfilters\u001b[0m\u001b[0;34m.\u001b[0m\u001b[0minventories_nuc\u001b[0m\u001b[0;34m(\u001b[0m\u001b[0mevaler\u001b[0m\u001b[0;34m,\u001b[0m \u001b[0mfacilities\u001b[0m\u001b[0;34m,\u001b[0m \u001b[0mnucs\u001b[0m\u001b[0;34m)\u001b[0m\u001b[0;34m\u001b[0m\u001b[0m\n\u001b[0m\u001b[1;32m    132\u001b[0m     \u001b[0;32melse\u001b[0m\u001b[0;34m:\u001b[0m\u001b[0;34m\u001b[0m\u001b[0m\n\u001b[1;32m    133\u001b[0m         \u001b[0mwng_msg\u001b[0m \u001b[0;34m=\u001b[0m \u001b[0;34m\"no nuclide provided\"\u001b[0m\u001b[0;34m\u001b[0m\u001b[0m\n",
      "\u001b[0;32m/Users/mouginot/.local/lib/python3.5/site-packages/cymetric/filters.py\u001b[0m in \u001b[0;36minventories_nuc\u001b[0;34m(evaler, facilities, nucs)\u001b[0m\n\u001b[1;32m    212\u001b[0m             dfs.append(evaler.eval('InventoryComposition',\n\u001b[1;32m    213\u001b[0m                 conds=[conditionnal_nuc]))\n\u001b[0;32m--> 214\u001b[0;31m             \u001b[0mcompo\u001b[0m \u001b[0;34m=\u001b[0m \u001b[0mpd\u001b[0m\u001b[0;34m.\u001b[0m\u001b[0mconcat\u001b[0m\u001b[0;34m(\u001b[0m\u001b[0mdfs\u001b[0m\u001b[0;34m)\u001b[0m\u001b[0;34m\u001b[0m\u001b[0m\n\u001b[0m\u001b[1;32m    215\u001b[0m     \u001b[0;32melse\u001b[0m\u001b[0;34m:\u001b[0m\u001b[0;34m\u001b[0m\u001b[0m\n\u001b[1;32m    216\u001b[0m         \u001b[0mwng_msg\u001b[0m \u001b[0;34m=\u001b[0m \u001b[0;34m\"no faciity provided\"\u001b[0m\u001b[0;34m\u001b[0m\u001b[0m\n",
      "\u001b[0;32m/opt/local/Library/Frameworks/Python.framework/Versions/3.5/lib/python3.5/site-packages/pandas/core/reshape/concat.py\u001b[0m in \u001b[0;36mconcat\u001b[0;34m(objs, axis, join, join_axes, ignore_index, keys, levels, names, verify_integrity, copy)\u001b[0m\n\u001b[1;32m    204\u001b[0m                        \u001b[0mkeys\u001b[0m\u001b[0;34m=\u001b[0m\u001b[0mkeys\u001b[0m\u001b[0;34m,\u001b[0m \u001b[0mlevels\u001b[0m\u001b[0;34m=\u001b[0m\u001b[0mlevels\u001b[0m\u001b[0;34m,\u001b[0m \u001b[0mnames\u001b[0m\u001b[0;34m=\u001b[0m\u001b[0mnames\u001b[0m\u001b[0;34m,\u001b[0m\u001b[0;34m\u001b[0m\u001b[0m\n\u001b[1;32m    205\u001b[0m                        \u001b[0mverify_integrity\u001b[0m\u001b[0;34m=\u001b[0m\u001b[0mverify_integrity\u001b[0m\u001b[0;34m,\u001b[0m\u001b[0;34m\u001b[0m\u001b[0m\n\u001b[0;32m--> 206\u001b[0;31m                        copy=copy)\n\u001b[0m\u001b[1;32m    207\u001b[0m     \u001b[0;32mreturn\u001b[0m \u001b[0mop\u001b[0m\u001b[0;34m.\u001b[0m\u001b[0mget_result\u001b[0m\u001b[0;34m(\u001b[0m\u001b[0;34m)\u001b[0m\u001b[0;34m\u001b[0m\u001b[0m\n\u001b[1;32m    208\u001b[0m \u001b[0;34m\u001b[0m\u001b[0m\n",
      "\u001b[0;32m/opt/local/Library/Frameworks/Python.framework/Versions/3.5/lib/python3.5/site-packages/pandas/core/reshape/concat.py\u001b[0m in \u001b[0;36m__init__\u001b[0;34m(self, objs, axis, join, join_axes, keys, levels, names, ignore_index, verify_integrity, copy)\u001b[0m\n\u001b[1;32m    255\u001b[0m \u001b[0;34m\u001b[0m\u001b[0m\n\u001b[1;32m    256\u001b[0m         \u001b[0;32mif\u001b[0m \u001b[0mlen\u001b[0m\u001b[0;34m(\u001b[0m\u001b[0mobjs\u001b[0m\u001b[0;34m)\u001b[0m \u001b[0;34m==\u001b[0m \u001b[0;36m0\u001b[0m\u001b[0;34m:\u001b[0m\u001b[0;34m\u001b[0m\u001b[0m\n\u001b[0;32m--> 257\u001b[0;31m             \u001b[0;32mraise\u001b[0m \u001b[0mValueError\u001b[0m\u001b[0;34m(\u001b[0m\u001b[0;34m'All objects passed were None'\u001b[0m\u001b[0;34m)\u001b[0m\u001b[0;34m\u001b[0m\u001b[0m\n\u001b[0m\u001b[1;32m    258\u001b[0m \u001b[0;34m\u001b[0m\u001b[0m\n\u001b[1;32m    259\u001b[0m         \u001b[0;31m# consolidate data & figure out what our result ndim is going to be\u001b[0m\u001b[0;34m\u001b[0m\u001b[0;34m\u001b[0m\u001b[0m\n",
      "\u001b[0;31mValueError\u001b[0m: All objects passed were None"
     ]
    }
   ],
   "source": [
    "pu9_tot_1 = com.inventories(ev1, nucs=['Pu239'])\n",
    "pu9_tot_2 = com.inventories(ev2, nucs=['Pu239'])\n",
    "pu9_tot_3 = com.inventories(ev3, nucs=['Pu239'])\n",
    "\n",
    "\n",
    "pu9_tot_1_dat = pd.DataFrame({'Time': pu9_tot_1.Time/12., 'ex1 Mass': pu9_tot_1.Mass})\n",
    "pu9_tot_2_dat = pd.DataFrame({'Time': pu9_tot_2.Time/12., 'ex2 Mass': pu9_tot_2.Mass})\n",
    "pu9_tot_3_dat = pd.DataFrame({'Time': pu9_tot_3.Time/12., 'ex3 Mass': pu9_tot_3.Mass})\n",
    "\n",
    "\n",
    "\n",
    "e1x = pu9_tot_1_dat.plot(x='Time', y='ex1 Mass', figsize=(10, 6))\n",
    "pu9_tot_2_dat.plot(x='Time', y='ex2 Mass', ax=e1x)\n",
    "pu9_tot_3_dat.plot(x='Time', y='ex3 Mass', ax=e1x)\n",
    "\n",
    "\n",
    "\n",
    "\n",
    "\n",
    "#plt.ylim([0,50000000])\n",
    "plt.xlabel('Time [Years]')\n",
    "plt.ylabel('Pu239 Total [Kg]')\n",
    "plt.savefig('inv.png', dpi=326)\n",
    "plt.legend()"
   ]
  },
  {
   "cell_type": "code",
   "execution_count": 14,
   "metadata": {},
   "outputs": [
    {
     "data": {
      "text/plain": [
       "<matplotlib.legend.Legend at 0x11e09a0b8>"
      ]
     },
     "execution_count": 14,
     "metadata": {},
     "output_type": "execute_result"
    },
    {
     "data": {
      "image/png": "[encoded data removed]",
      "text/plain": [
       "<matplotlib.figure.Figure at 0x12c49c780>"
      ]
     },
     "metadata": {},
     "output_type": "display_data"
    }
   ],
   "source": [
    "pu9_tot_1 = com.inventories(ev1, facilities=['storage_uox_spent'], nucs=['Pu239'])\n",
    "pu9_tot_2 = com.inventories(ev2, facilities=['storage_uox_spent'], nucs=['Pu239'])\n",
    "pu9_tot_3 = com.inventories(ev3, facilities=['storage_uox_spent'], nucs=['Pu239'])\n",
    "\n",
    "\n",
    "pu9_tot_1_dat = pd.DataFrame({'Time': pu9_tot_1.Time/12., 'ex1 Mass': pu9_tot_1.Mass})\n",
    "pu9_tot_2_dat = pd.DataFrame({'Time': pu9_tot_2.Time/12., 'ex2 Mass': pu9_tot_2.Mass})\n",
    "pu9_tot_3_dat = pd.DataFrame({'Time': pu9_tot_3.Time/12., 'ex3 Mass': pu9_tot_3.Mass})\n",
    "\n",
    "\n",
    "\n",
    "e1x = pu9_tot_1_dat.plot(x='Time', y='ex1 Mass', figsize=(10, 6))\n",
    "pu9_tot_2_dat.plot(x='Time', y='ex2 Mass', ax=e1x)\n",
    "pu9_tot_3_dat.plot(x='Time', y='ex3 Mass', ax=e1x)\n",
    "\n",
    "\n",
    "\n",
    "\n",
    "\n",
    "#plt.ylim([0,50000000])\n",
    "plt.xlabel('Time [Years]')\n",
    "plt.ylabel('Pu239 Storage [Kg]')\n",
    "plt.savefig('inv.png', dpi=326)\n",
    "plt.legend()"
   ]
  },
  {
   "cell_type": "code",
   "execution_count": 15,
   "metadata": {},
   "outputs": [
    {
     "data": {
      "image/svg+xml": [
       "<?xml version=\"1.0\" encoding=\"UTF-8\" standalone=\"no\"?>\n",
       "<!DOCTYPE svg PUBLIC \"-//W3C//DTD SVG 1.1//EN\"\n",
       " \"http://www.w3.org/Graphics/SVG/1.1/DTD/svg11.dtd\">\n",
       "<!-- Generated by graphviz version 2.40.1 (20161225.0304)\n",
       " -->\n",
       "<!-- Title: G Pages: 1 -->\n",
       "<svg width=\"455pt\" height=\"218pt\"\n",
       " viewBox=\"0.00 0.00 454.79 218.00\" xmlns=\"http://www.w3.org/2000/svg\" xmlns:xlink=\"http://www.w3.org/1999/xlink\">\n",
       "<g id=\"graph0\" class=\"graph\" transform=\"scale(1 1) rotate(0) translate(4 214)\">\n",
       "<title>G</title>\n",
       "<polygon fill=\"#ffffff\" stroke=\"transparent\" points=\"-4,4 -4,-214 450.7912,-214 450.7912,4 -4,4\"/>\n",
       "<!-- deployer_main_CHAIN -->\n",
       "<g id=\"node1\" class=\"node\">\n",
       "<title>deployer_main_CHAIN</title>\n",
       "<ellipse fill=\"none\" stroke=\"#000000\" cx=\"98.7912\" cy=\"-192\" rx=\"98.5829\" ry=\"18\"/>\n",
       "<text text-anchor=\"middle\" x=\"98.7912\" y=\"-188.3\" font-family=\"Times,serif\" font-size=\"14.00\" fill=\"#000000\">deployer_main_CHAIN</text>\n",
       "</g>\n",
       "<!-- waste -->\n",
       "<g id=\"node2\" class=\"node\">\n",
       "<title>waste</title>\n",
       "<ellipse fill=\"none\" stroke=\"#000000\" cx=\"246.7912\" cy=\"-192\" rx=\"31.3957\" ry=\"18\"/>\n",
       "<text text-anchor=\"middle\" x=\"246.7912\" y=\"-188.3\" font-family=\"Times,serif\" font-size=\"14.00\" fill=\"#000000\">waste</text>\n",
       "</g>\n",
       "<!-- nu_src -->\n",
       "<g id=\"node3\" class=\"node\">\n",
       "<title>nu_src</title>\n",
       "<ellipse fill=\"none\" stroke=\"#000000\" cx=\"330.7912\" cy=\"-192\" rx=\"35.194\" ry=\"18\"/>\n",
       "<text text-anchor=\"middle\" x=\"330.7912\" y=\"-188.3\" font-family=\"Times,serif\" font-size=\"14.00\" fill=\"#000000\">nu_src</text>\n",
       "</g>\n",
       "<!-- pwr -->\n",
       "<g id=\"node5\" class=\"node\">\n",
       "<title>pwr</title>\n",
       "<ellipse fill=\"none\" stroke=\"#000000\" cx=\"330.7912\" cy=\"-105\" rx=\"27\" ry=\"18\"/>\n",
       "<text text-anchor=\"middle\" x=\"330.7912\" y=\"-101.3\" font-family=\"Times,serif\" font-size=\"14.00\" fill=\"#000000\">pwr</text>\n",
       "</g>\n",
       "<!-- nu_src&#45;&gt;pwr -->\n",
       "<g id=\"edge1\" class=\"edge\">\n",
       "<title>nu_src&#45;&gt;pwr</title>\n",
       "<path fill=\"none\" stroke=\"#000000\" d=\"M330.7912,-173.9735C330.7912,-162.1918 330.7912,-146.5607 330.7912,-133.1581\"/>\n",
       "<polygon fill=\"#000000\" stroke=\"#000000\" points=\"334.2913,-133.0033 330.7912,-123.0034 327.2913,-133.0034 334.2913,-133.0033\"/>\n",
       "<text text-anchor=\"middle\" x=\"360.7912\" y=\"-144.8\" font-family=\"Times,serif\" font-size=\"14.00\" fill=\"#000000\">4320000.0</text>\n",
       "</g>\n",
       "<!-- storage_uox_spent -->\n",
       "<g id=\"node4\" class=\"node\">\n",
       "<title>storage_uox_spent</title>\n",
       "<ellipse fill=\"none\" stroke=\"#000000\" cx=\"330.7912\" cy=\"-18\" rx=\"78.7863\" ry=\"18\"/>\n",
       "<text text-anchor=\"middle\" x=\"330.7912\" y=\"-14.3\" font-family=\"Times,serif\" font-size=\"14.00\" fill=\"#000000\">storage_uox_spent</text>\n",
       "</g>\n",
       "<!-- pwr&#45;&gt;storage_uox_spent -->\n",
       "<g id=\"edge2\" class=\"edge\">\n",
       "<title>pwr&#45;&gt;storage_uox_spent</title>\n",
       "<path fill=\"none\" stroke=\"#000000\" d=\"M330.7912,-86.9735C330.7912,-75.1918 330.7912,-59.5607 330.7912,-46.1581\"/>\n",
       "<polygon fill=\"#000000\" stroke=\"#000000\" points=\"334.2913,-46.0033 330.7912,-36.0034 327.2913,-46.0034 334.2913,-46.0033\"/>\n",
       "<text text-anchor=\"middle\" x=\"388.7912\" y=\"-57.8\" font-family=\"Times,serif\" font-size=\"14.00\" fill=\"#000000\">4229999.999999974</text>\n",
       "</g>\n",
       "</g>\n",
       "</svg>\n"
      ],
      "text/plain": [
       "<graphviz.dot.Digraph at 0x119cf86d8>"
      ]
     },
     "execution_count": 15,
     "metadata": {},
     "output_type": "execute_result"
    }
   ],
   "source": [
    "cym.graphs.flow_graph(ev1)"
   ]
  },
  {
   "cell_type": "code",
   "execution_count": null,
   "metadata": {
    "collapsed": true
   },
   "outputs": [],
   "source": []
  },
  {
   "cell_type": "code",
   "execution_count": 16,
   "metadata": {},
   "outputs": [
    {
     "data": {
      "text/plain": [
       "<matplotlib.legend.Legend at 0x119d014a8>"
      ]
     },
     "execution_count": 16,
     "metadata": {},
     "output_type": "execute_result"
    },
    {
     "data": {
      "image/png": "[encoded data removed]",
      "text/plain": [
       "<matplotlib.figure.Figure at 0x124700668>"
      ]
     },
     "metadata": {},
     "output_type": "display_data"
    }
   ],
   "source": [
    "u5_tot_1 = com.inventories(ev1, facilities=['storage_uox_spent'], nucs=['U235'])\n",
    "u5_tot_2 = com.inventories(ev2, facilities=['storage_uox_spent'], nucs=['U235'])\n",
    "u5_tot_3 = com.inventories(ev3, facilities=['storage_uox_spent'], nucs=['U235'])\n",
    "\n",
    "\n",
    "u5_tot_1_dat = pd.DataFrame({'Time': u5_tot_1.Time/12., 'ex1 Mass': u5_tot_1.Mass})\n",
    "u5_tot_2_dat = pd.DataFrame({'Time': u5_tot_2.Time/12., 'ex2 Mass': u5_tot_2.Mass})\n",
    "u5_tot_3_dat = pd.DataFrame({'Time': u5_tot_3.Time/12., 'ex3 Mass': u5_tot_3.Mass})\n",
    "\n",
    "\n",
    "\n",
    "e1x = u5_tot_1_dat.plot(x='Time', y='ex1 Mass', figsize=(10, 6))\n",
    "u5_tot_2_dat.plot(x='Time', y='ex2 Mass', ax=e1x)\n",
    "u5_tot_3_dat.plot(x='Time', y='ex3 Mass', ax=e1x)\n",
    "\n",
    "\n",
    "\n",
    "\n",
    "\n",
    "#plt.ylim([0,50000000])\n",
    "plt.xlabel('Time [Years]')\n",
    "plt.ylabel('U5 storage [Kg]')\n",
    "plt.savefig('inv.png', dpi=326)\n",
    "plt.legend()"
   ]
  },
  {
   "cell_type": "code",
   "execution_count": null,
   "metadata": {
    "collapsed": true
   },
   "outputs": [],
   "source": []
  },
  {
   "cell_type": "code",
   "execution_count": null,
   "metadata": {
    "collapsed": true
   },
   "outputs": [],
   "source": []
  },
  {
   "cell_type": "code",
   "execution_count": null,
   "metadata": {
    "collapsed": true
   },
   "outputs": [],
   "source": []
  },
  {
   "cell_type": "code",
   "execution_count": null,
   "metadata": {
    "collapsed": true
   },
   "outputs": [],
   "source": []
  }
 ],
 "metadata": {
  "kernelspec": {
   "display_name": "Python 3",
   "language": "python",
   "name": "python3"
  },
  "language_info": {
   "codemirror_mode": {
    "name": "ipython",
    "version": 3
   },
   "file_extension": ".py",
   "mimetype": "text/x-python",
   "name": "python",
   "nbconvert_exporter": "python",
   "pygments_lexer": "ipython3",
   "version": "3.5.3"
  }
 },
 "nbformat": 4,
 "nbformat_minor": 2
}
