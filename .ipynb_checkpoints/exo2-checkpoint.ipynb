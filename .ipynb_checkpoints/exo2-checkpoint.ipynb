{
 "cells": [
  {
   "cell_type": "code",
   "execution_count": 1,
   "metadata": {},
   "outputs": [
    {
     "name": "stderr",
     "output_type": "stream",
     "text": [
      "/opt/local/Library/Frameworks/Python.framework/Versions/3.5/lib/python3.5/importlib/_bootstrap.py:222: QAWarning: pyne.data is not yet QA compliant.\n",
      "  return f(*args, **kwds)\n",
      "/opt/local/Library/Frameworks/Python.framework/Versions/3.5/lib/python3.5/importlib/_bootstrap.py:222: QAWarning: pyne.material is not yet QA compliant.\n",
      "  return f(*args, **kwds)\n",
      "/opt/local/Library/Frameworks/Python.framework/Versions/3.5/lib/python3.5/importlib/_bootstrap.py:222: QAWarning: pyne.enrichment is not yet QA compliant.\n",
      "  return f(*args, **kwds)\n"
     ]
    }
   ],
   "source": [
    "from cymetric import timeseries as com\n",
    "import pandas as pd\n",
    "import matplotlib.pyplot as plt\n",
    "%matplotlib inline\n",
    "import cymetric as cym"
   ]
  },
  {
   "cell_type": "code",
   "execution_count": 2,
   "metadata": {
    "collapsed": true
   },
   "outputs": [],
   "source": [
    "db1 = cym.dbopen('exo_2/cyclus_test1.sqlite')\n",
    "ev1 = cym.Evaluator(db=db1, write=False)\n",
    "db2 = cym.dbopen('exo_2/cyclus_test2.sqlite')\n",
    "ev2 = cym.Evaluator(db=db2, write=False)\n",
    "db3 = cym.dbopen('exo_2/cyclus_test3.sqlite')\n",
    "ev3 = cym.Evaluator(db=db3, write=False)"
   ]
  },
  {
   "cell_type": "code",
   "execution_count": 3,
   "metadata": {},
   "outputs": [
    {
     "name": "stderr",
     "output_type": "stream",
     "text": [
      "/Users/mouginot/.local/lib/python3.5/site-packages/cymetric/filters.py:196: UserWarning: no faciity provided\n",
      "  warnings.warn(wng_msg, UserWarning)\n"
     ]
    },
    {
     "ename": "TypeError",
     "evalue": "'NoneType' object is not subscriptable",
     "output_type": "error",
     "traceback": [
      "\u001b[0;31m---------------------------------------------------------------------------\u001b[0m",
      "\u001b[0;31mTypeError\u001b[0m                                 Traceback (most recent call last)",
      "\u001b[0;32m<ipython-input-3-346bf3ed1892>\u001b[0m in \u001b[0;36m<module>\u001b[0;34m()\u001b[0m\n\u001b[0;32m----> 1\u001b[0;31m \u001b[0mu5_tot_1\u001b[0m \u001b[0;34m=\u001b[0m \u001b[0mcom\u001b[0m\u001b[0;34m.\u001b[0m\u001b[0minventories\u001b[0m\u001b[0;34m(\u001b[0m\u001b[0mev1\u001b[0m\u001b[0;34m,\u001b[0m \u001b[0mnucs\u001b[0m\u001b[0;34m=\u001b[0m\u001b[0;34m[\u001b[0m\u001b[0;34m'U235'\u001b[0m\u001b[0;34m]\u001b[0m\u001b[0;34m)\u001b[0m\u001b[0;34m\u001b[0m\u001b[0m\n\u001b[0m\u001b[1;32m      2\u001b[0m \u001b[0mu5_tot_2\u001b[0m \u001b[0;34m=\u001b[0m \u001b[0mcom\u001b[0m\u001b[0;34m.\u001b[0m\u001b[0minventories\u001b[0m\u001b[0;34m(\u001b[0m\u001b[0mev2\u001b[0m\u001b[0;34m,\u001b[0m \u001b[0mnucs\u001b[0m\u001b[0;34m=\u001b[0m\u001b[0;34m[\u001b[0m\u001b[0;34m'U235'\u001b[0m\u001b[0;34m]\u001b[0m\u001b[0;34m)\u001b[0m\u001b[0;34m\u001b[0m\u001b[0m\n\u001b[1;32m      3\u001b[0m \u001b[0mu5_tot_3\u001b[0m \u001b[0;34m=\u001b[0m \u001b[0mcom\u001b[0m\u001b[0;34m.\u001b[0m\u001b[0minventories\u001b[0m\u001b[0;34m(\u001b[0m\u001b[0mev3\u001b[0m\u001b[0;34m,\u001b[0m \u001b[0mnucs\u001b[0m\u001b[0;34m=\u001b[0m\u001b[0;34m[\u001b[0m\u001b[0;34m'U235'\u001b[0m\u001b[0;34m]\u001b[0m\u001b[0;34m)\u001b[0m\u001b[0;34m\u001b[0m\u001b[0m\n\u001b[1;32m      4\u001b[0m \u001b[0;34m\u001b[0m\u001b[0m\n",
      "\u001b[0;32m/Users/mouginot/.local/lib/python3.5/site-packages/cymetric/timeseries.py\u001b[0m in \u001b[0;36minventories\u001b[0;34m(evaler, facilities, nucs)\u001b[0m\n\u001b[1;32m    133\u001b[0m         \u001b[0mwarnings\u001b[0m\u001b[0;34m.\u001b[0m\u001b[0mwarn\u001b[0m\u001b[0;34m(\u001b[0m\u001b[0mwng_msg\u001b[0m\u001b[0;34m,\u001b[0m \u001b[0mUserWarning\u001b[0m\u001b[0;34m)\u001b[0m\u001b[0;34m\u001b[0m\u001b[0m\n\u001b[1;32m    134\u001b[0m \u001b[0;34m\u001b[0m\u001b[0m\n\u001b[0;32m--> 135\u001b[0;31m     \u001b[0mdf\u001b[0m \u001b[0;34m=\u001b[0m \u001b[0mfilters\u001b[0m\u001b[0;34m.\u001b[0m\u001b[0minventories\u001b[0m\u001b[0;34m(\u001b[0m\u001b[0mevaler\u001b[0m\u001b[0;34m,\u001b[0m \u001b[0mfacilities\u001b[0m\u001b[0;34m,\u001b[0m \u001b[0mnucs\u001b[0m\u001b[0;34m)\u001b[0m\u001b[0;34m\u001b[0m\u001b[0m\n\u001b[0m\u001b[1;32m    136\u001b[0m     \u001b[0mdf\u001b[0m\u001b[0;34m.\u001b[0m\u001b[0mrename\u001b[0m\u001b[0;34m(\u001b[0m\u001b[0mcolumns\u001b[0m \u001b[0;34m=\u001b[0m \u001b[0;34m{\u001b[0m\u001b[0;34m'Quantity'\u001b[0m\u001b[0;34m:\u001b[0m\u001b[0;34m'Mass'\u001b[0m\u001b[0;34m}\u001b[0m\u001b[0;34m,\u001b[0m \u001b[0minplace\u001b[0m \u001b[0;34m=\u001b[0m \u001b[0;32mTrue\u001b[0m\u001b[0;34m)\u001b[0m\u001b[0;34m\u001b[0m\u001b[0m\n\u001b[1;32m    137\u001b[0m     \u001b[0mgroup_end\u001b[0m \u001b[0;34m=\u001b[0m \u001b[0;34m[\u001b[0m\u001b[0;34m'Time'\u001b[0m\u001b[0;34m]\u001b[0m\u001b[0;34m\u001b[0m\u001b[0m\n",
      "\u001b[0;32m/Users/mouginot/.local/lib/python3.5/site-packages/cymetric/filters.py\u001b[0m in \u001b[0;36minventories\u001b[0;34m(evaler, facilities, nucs)\u001b[0m\n\u001b[1;32m    196\u001b[0m         \u001b[0mwarnings\u001b[0m\u001b[0;34m.\u001b[0m\u001b[0mwarn\u001b[0m\u001b[0;34m(\u001b[0m\u001b[0mwng_msg\u001b[0m\u001b[0;34m,\u001b[0m \u001b[0mUserWarning\u001b[0m\u001b[0;34m)\u001b[0m\u001b[0;34m\u001b[0m\u001b[0m\n\u001b[1;32m    197\u001b[0m         \u001b[0mdf\u001b[0m \u001b[0;34m=\u001b[0m \u001b[0mevaler\u001b[0m\u001b[0;34m.\u001b[0m\u001b[0meval\u001b[0m\u001b[0;34m(\u001b[0m\u001b[0;34m'ExplicitInventory'\u001b[0m\u001b[0;34m)\u001b[0m\u001b[0;34m\u001b[0m\u001b[0m\n\u001b[0;32m--> 198\u001b[0;31m     \u001b[0mdf\u001b[0m \u001b[0;34m=\u001b[0m \u001b[0mreduce\u001b[0m\u001b[0;34m(\u001b[0m\u001b[0mdf\u001b[0m\u001b[0;34m,\u001b[0m \u001b[0mrdc_table\u001b[0m\u001b[0;34m)\u001b[0m\u001b[0;34m\u001b[0m\u001b[0m\n\u001b[0m\u001b[1;32m    199\u001b[0m \u001b[0;34m\u001b[0m\u001b[0m\n\u001b[1;32m    200\u001b[0m     \u001b[0mbase_col\u001b[0m \u001b[0;34m=\u001b[0m \u001b[0;34m[\u001b[0m\u001b[0;34m'SimId'\u001b[0m\u001b[0;34m,\u001b[0m \u001b[0;34m'AgentId'\u001b[0m\u001b[0;34m]\u001b[0m\u001b[0;34m\u001b[0m\u001b[0m\n",
      "\u001b[0;32m/Users/mouginot/.local/lib/python3.5/site-packages/cymetric/tools.py\u001b[0m in \u001b[0;36mreduce\u001b[0;34m(df, rdc_)\u001b[0m\n\u001b[1;32m    146\u001b[0m     \u001b[0;32mfor\u001b[0m \u001b[0mrdc\u001b[0m \u001b[0;32min\u001b[0m \u001b[0mrdc_\u001b[0m\u001b[0;34m:\u001b[0m\u001b[0;34m\u001b[0m\u001b[0m\n\u001b[1;32m    147\u001b[0m         \u001b[0;32mif\u001b[0m \u001b[0mlen\u001b[0m\u001b[0;34m(\u001b[0m\u001b[0mrdc\u001b[0m\u001b[0;34m[\u001b[0m\u001b[0;36m1\u001b[0m\u001b[0;34m]\u001b[0m\u001b[0;34m)\u001b[0m \u001b[0;34m!=\u001b[0m \u001b[0;36m0\u001b[0m\u001b[0;34m:\u001b[0m\u001b[0;34m\u001b[0m\u001b[0m\n\u001b[0;32m--> 148\u001b[0;31m             \u001b[0mdf\u001b[0m \u001b[0;34m=\u001b[0m \u001b[0mdf\u001b[0m\u001b[0;34m[\u001b[0m\u001b[0mdf\u001b[0m\u001b[0;34m[\u001b[0m\u001b[0mrdc\u001b[0m\u001b[0;34m[\u001b[0m\u001b[0;36m0\u001b[0m\u001b[0;34m]\u001b[0m\u001b[0;34m]\u001b[0m\u001b[0;34m.\u001b[0m\u001b[0misin\u001b[0m\u001b[0;34m(\u001b[0m\u001b[0mrdc\u001b[0m\u001b[0;34m[\u001b[0m\u001b[0;36m1\u001b[0m\u001b[0;34m]\u001b[0m\u001b[0;34m)\u001b[0m\u001b[0;34m]\u001b[0m\u001b[0;34m\u001b[0m\u001b[0m\n\u001b[0m\u001b[1;32m    149\u001b[0m         \u001b[0;32melse\u001b[0m\u001b[0;34m:\u001b[0m\u001b[0;34m\u001b[0m\u001b[0m\n\u001b[1;32m    150\u001b[0m             \u001b[0mwng_msg\u001b[0m \u001b[0;34m=\u001b[0m \u001b[0;34m\"Empty  provided for \"\u001b[0m \u001b[0;34m+\u001b[0m \u001b[0mrdc\u001b[0m\u001b[0;34m[\u001b[0m\u001b[0;36m0\u001b[0m\u001b[0;34m]\u001b[0m \u001b[0;34m+\u001b[0m \u001b[0;34m\" key.\"\u001b[0m\u001b[0;34m\u001b[0m\u001b[0m\n",
      "\u001b[0;31mTypeError\u001b[0m: 'NoneType' object is not subscriptable"
     ]
    }
   ],
   "source": [
    "u5_tot_1 = com.inventories(ev1, nucs=['U235'])\n",
    "u5_tot_2 = com.inventories(ev2, nucs=['U235'])\n",
    "u5_tot_3 = com.inventories(ev3, nucs=['U235'])\n",
    "\n"
   ]
  },
  {
   "cell_type": "code",
   "execution_count": null,
   "metadata": {},
   "outputs": [],
   "source": [
    "u5_tot_1_dat = pd.DataFrame({'Time': u5_tot_1.Time/12., 'ex1 Mass': u5_tot_1.Mass})\n",
    "u5_tot_2_dat = pd.DataFrame({'Time': u5_tot_2.Time/12., 'ex2 Mass': u5_tot_2.Mass})\n",
    "u5_tot_3_dat = pd.DataFrame({'Time': u5_tot_3.Time/12., 'ex3 Mass': u5_tot_3.Mass})\n",
    "\n",
    "\n",
    "\n",
    "e1x = u5_tot_1_dat.plot(x='Time', y='ex1 Mass', figsize=(10, 6))\n",
    "u5_tot_2_dat.plot(x='Time', y='ex2 Mass', ax=e1x)\n",
    "u5_tot_3_dat.plot(x='Time', y='ex3 Mass', ax=e1x)\n",
    "\n",
    "\n",
    "\n",
    "\n",
    "\n",
    "#plt.ylim([0,50000000])\n",
    "plt.xlabel('Time [Years]')\n",
    "plt.ylabel('U235 total [Kg]')\n",
    "plt.savefig('inv.png', dpi=326)\n",
    "plt.legend()"
   ]
  },
  {
   "cell_type": "code",
   "execution_count": null,
   "metadata": {},
   "outputs": [],
   "source": [
    "pu9_tot_1 = com.inventories(ev1, nucs=['Pu239'])\n",
    "pu9_tot_2 = com.inventories(ev2, nucs=['Pu239'])\n",
    "pu9_tot_3 = com.inventories(ev3, nucs=['Pu239'])\n",
    "\n",
    "\n",
    "pu9_tot_1_dat = pd.DataFrame({'Time': pu9_tot_1.Time/12., 'ex1 Mass': pu9_tot_1.Mass})\n",
    "pu9_tot_2_dat = pd.DataFrame({'Time': pu9_tot_2.Time/12., 'ex2 Mass': pu9_tot_2.Mass})\n",
    "pu9_tot_3_dat = pd.DataFrame({'Time': pu9_tot_3.Time/12., 'ex3 Mass': pu9_tot_3.Mass})\n",
    "\n",
    "\n",
    "\n",
    "e1x = pu9_tot_1_dat.plot(x='Time', y='ex1 Mass', figsize=(10, 6))\n",
    "pu9_tot_2_dat.plot(x='Time', y='ex2 Mass', ax=e1x)\n",
    "pu9_tot_3_dat.plot(x='Time', y='ex3 Mass', ax=e1x)\n",
    "\n",
    "\n",
    "\n",
    "\n",
    "\n",
    "#plt.ylim([0,50000000])\n",
    "plt.xlabel('Time [Years]')\n",
    "plt.ylabel('Pu239 Total [Kg]')\n",
    "plt.savefig('inv.png', dpi=326)\n",
    "plt.legend()"
   ]
  },
  {
   "cell_type": "code",
   "execution_count": null,
   "metadata": {},
   "outputs": [],
   "source": [
    "pu9_tot_1 = com.inventories(ev1, facilities=['storage_uox_spent'], nucs=['Pu239'])\n",
    "pu9_tot_2 = com.inventories(ev2, facilities=['storage_uox_spent'], nucs=['Pu239'])\n",
    "pu9_tot_3 = com.inventories(ev3, facilities=['storage_uox_spent'], nucs=['Pu239'])\n",
    "\n",
    "\n",
    "pu9_tot_1_dat = pd.DataFrame({'Time': pu9_tot_1.Time/12., 'ex1 Mass': pu9_tot_1.Mass})\n",
    "pu9_tot_2_dat = pd.DataFrame({'Time': pu9_tot_2.Time/12., 'ex2 Mass': pu9_tot_2.Mass})\n",
    "pu9_tot_3_dat = pd.DataFrame({'Time': pu9_tot_3.Time/12., 'ex3 Mass': pu9_tot_3.Mass})\n",
    "\n",
    "\n",
    "\n",
    "e1x = pu9_tot_1_dat.plot(x='Time', y='ex1 Mass', figsize=(10, 6))\n",
    "pu9_tot_2_dat.plot(x='Time', y='ex2 Mass', ax=e1x)\n",
    "pu9_tot_3_dat.plot(x='Time', y='ex3 Mass', ax=e1x)\n",
    "\n",
    "\n",
    "\n",
    "\n",
    "\n",
    "#plt.ylim([0,50000000])\n",
    "plt.xlabel('Time [Years]')\n",
    "plt.ylabel('Pu239 Storage [Kg]')\n",
    "plt.savefig('inv.png', dpi=326)\n",
    "plt.legend()"
   ]
  },
  {
   "cell_type": "code",
   "execution_count": null,
   "metadata": {},
   "outputs": [],
   "source": [
    "cym.graphs.flow_graph(ev1)"
   ]
  },
  {
   "cell_type": "code",
   "execution_count": null,
   "metadata": {
    "collapsed": true
   },
   "outputs": [],
   "source": []
  },
  {
   "cell_type": "code",
   "execution_count": 16,
   "metadata": {},
   "outputs": [
    {
     "data": {
      "text/plain": [
       "<matplotlib.legend.Legend at 0x119d014a8>"
      ]
     },
     "execution_count": 16,
     "metadata": {},
     "output_type": "execute_result"
    },
    {
     "data": {
      "image/png": "[encoded data removed]",
      "text/plain": [
       "<matplotlib.figure.Figure at 0x124700668>"
      ]
     },
     "metadata": {},
     "output_type": "display_data"
    }
   ],
   "source": [
    "u5_tot_1 = com.inventories(ev1, facilities=['storage_uox_spent'], nucs=['U235'])\n",
    "u5_tot_2 = com.inventories(ev2, facilities=['storage_uox_spent'], nucs=['U235'])\n",
    "u5_tot_3 = com.inventories(ev3, facilities=['storage_uox_spent'], nucs=['U235'])\n",
    "\n",
    "\n",
    "u5_tot_1_dat = pd.DataFrame({'Time': u5_tot_1.Time/12., 'ex1 Mass': u5_tot_1.Mass})\n",
    "u5_tot_2_dat = pd.DataFrame({'Time': u5_tot_2.Time/12., 'ex2 Mass': u5_tot_2.Mass})\n",
    "u5_tot_3_dat = pd.DataFrame({'Time': u5_tot_3.Time/12., 'ex3 Mass': u5_tot_3.Mass})\n",
    "\n",
    "\n",
    "\n",
    "e1x = u5_tot_1_dat.plot(x='Time', y='ex1 Mass', figsize=(10, 6))\n",
    "u5_tot_2_dat.plot(x='Time', y='ex2 Mass', ax=e1x)\n",
    "u5_tot_3_dat.plot(x='Time', y='ex3 Mass', ax=e1x)\n",
    "\n",
    "\n",
    "\n",
    "\n",
    "\n",
    "#plt.ylim([0,50000000])\n",
    "plt.xlabel('Time [Years]')\n",
    "plt.ylabel('U5 storage [Kg]')\n",
    "plt.savefig('inv.png', dpi=326)\n",
    "plt.legend()"
   ]
  },
  {
   "cell_type": "code",
   "execution_count": null,
   "metadata": {
    "collapsed": true
   },
   "outputs": [],
   "source": []
  },
  {
   "cell_type": "code",
   "execution_count": null,
   "metadata": {
    "collapsed": true
   },
   "outputs": [],
   "source": []
  },
  {
   "cell_type": "code",
   "execution_count": null,
   "metadata": {
    "collapsed": true
   },
   "outputs": [],
   "source": []
  },
  {
   "cell_type": "code",
   "execution_count": null,
   "metadata": {
    "collapsed": true
   },
   "outputs": [],
   "source": []
  }
 ],
 "metadata": {
  "kernelspec": {
   "display_name": "Python 3",
   "language": "python",
   "name": "python3"
  },
  "language_info": {
   "codemirror_mode": {
    "name": "ipython",
    "version": 3
   },
   "file_extension": ".py",
   "mimetype": "text/x-python",
   "name": "python",
   "nbconvert_exporter": "python",
   "pygments_lexer": "ipython3",
   "version": "3.5.3"
  }
 },
 "nbformat": 4,
 "nbformat_minor": 2
}
